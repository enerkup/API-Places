{
 "cells": [
  {
   "cell_type": "markdown",
   "metadata": {},
   "source": [
    "## Places API from GPC (Google Cloud Platform)"
   ]
  },
  {
   "cell_type": "markdown",
   "metadata": {},
   "source": [
    "__API Credentials__"
   ]
  },
  {
   "cell_type": "code",
   "execution_count": 127,
   "metadata": {},
   "outputs": [],
   "source": [
    "secret_key = \"YOUR_KEY\"\n",
    "source_url = \"https://maps.googleapis.com/maps/api/place/textsearch/json?\" "
   ]
  },
  {
   "cell_type": "markdown",
   "metadata": {},
   "source": [
    "__Parameters__"
   ]
  },
  {
   "cell_type": "code",
   "execution_count": 128,
   "metadata": {},
   "outputs": [],
   "source": [
    "search_term = \"oyo+hotel\"\n",
    "\n",
    "h_lat = 19.427014 #lat from origin \n",
    "h_long = -99.167764 #long from origin \n",
    "\n",
    "search_near = str(h_lat)+\",\"+str(h_long) #string format\n",
    "\n",
    "distance_of_search = \"100\" #in meters"
   ]
  },
  {
   "cell_type": "markdown",
   "metadata": {},
   "source": [
    "__Execute Query__"
   ]
  },
  {
   "cell_type": "code",
   "execution_count": 129,
   "metadata": {},
   "outputs": [],
   "source": [
    "import requests"
   ]
  },
  {
   "cell_type": "code",
   "execution_count": 130,
   "metadata": {},
   "outputs": [],
   "source": [
    "def search_data(search_term,search_near,distance_of_search):\n",
    "    search_api = {'query':target_search,\n",
    "                  'location':search_near,\n",
    "                  'radius':distance_of_search,\n",
    "                  'key':secret_key}\n",
    "    return requests.get(source_url,search_api).json()"
   ]
  },
  {
   "cell_type": "code",
   "execution_count": 131,
   "metadata": {},
   "outputs": [],
   "source": [
    "df_results = search_data(target_search,search_near,distance_of_search)"
   ]
  },
  {
   "cell_type": "markdown",
   "metadata": {},
   "source": [
    "__Show Results__"
   ]
  },
  {
   "cell_type": "code",
   "execution_count": 132,
   "metadata": {},
   "outputs": [],
   "source": [
    "import pandas as pd"
   ]
  },
  {
   "cell_type": "code",
   "execution_count": 133,
   "metadata": {},
   "outputs": [
    {
     "data": {
      "text/html": [
       "<div>\n",
       "<style scoped>\n",
       "    .dataframe tbody tr th:only-of-type {\n",
       "        vertical-align: middle;\n",
       "    }\n",
       "\n",
       "    .dataframe tbody tr th {\n",
       "        vertical-align: top;\n",
       "    }\n",
       "\n",
       "    .dataframe thead th {\n",
       "        text-align: right;\n",
       "    }\n",
       "</style>\n",
       "<table border=\"1\" class=\"dataframe\">\n",
       "  <thead>\n",
       "    <tr style=\"text-align: right;\">\n",
       "      <th></th>\n",
       "      <th>business_status</th>\n",
       "      <th>formatted_address</th>\n",
       "      <th>geometry</th>\n",
       "      <th>icon</th>\n",
       "      <th>id</th>\n",
       "      <th>name</th>\n",
       "      <th>opening_hours</th>\n",
       "      <th>place_id</th>\n",
       "      <th>plus_code</th>\n",
       "      <th>rating</th>\n",
       "      <th>reference</th>\n",
       "      <th>types</th>\n",
       "      <th>user_ratings_total</th>\n",
       "      <th>photos</th>\n",
       "    </tr>\n",
       "  </thead>\n",
       "  <tbody>\n",
       "    <tr>\n",
       "      <th>0</th>\n",
       "      <td>OPERATIONAL</td>\n",
       "      <td>Calle de Francisco Díaz Covarrubias 92, San Ra...</td>\n",
       "      <td>{'location': {'lat': 19.437271, 'lng': -99.167...</td>\n",
       "      <td>https://maps.gstatic.com/mapfiles/place_api/ic...</td>\n",
       "      <td>0d0057fa296fbe6ae61820f0a1362ae49f9b9b4f</td>\n",
       "      <td>OYO Hotel Sr92</td>\n",
       "      <td>{'open_now': True}</td>\n",
       "      <td>ChIJsxzPIsr40YURITILBWTqEMU</td>\n",
       "      <td>{'compound_code': 'CRPJ+WW Mexico City', 'glob...</td>\n",
       "      <td>3.4</td>\n",
       "      <td>ChIJsxzPIsr40YURITILBWTqEMU</td>\n",
       "      <td>[lodging, point_of_interest, establishment]</td>\n",
       "      <td>75</td>\n",
       "      <td>NaN</td>\n",
       "    </tr>\n",
       "    <tr>\n",
       "      <th>1</th>\n",
       "      <td>OPERATIONAL</td>\n",
       "      <td>Dr. Andrade 69, Doctores, Cuauhtémoc, 06720 Ci...</td>\n",
       "      <td>{'location': {'lat': 19.4206887, 'lng': -99.14...</td>\n",
       "      <td>https://maps.gstatic.com/mapfiles/place_api/ic...</td>\n",
       "      <td>a3ad52e42ea983f259a994f1e94e715b9c402ee5</td>\n",
       "      <td>Capital O Hotel Andrade</td>\n",
       "      <td>{'open_now': True}</td>\n",
       "      <td>ChIJf8cn-Sf_0YURNPlR-pOByc8</td>\n",
       "      <td>{'compound_code': 'CVC3+7P Mexico City', 'glob...</td>\n",
       "      <td>3.9</td>\n",
       "      <td>ChIJf8cn-Sf_0YURNPlR-pOByc8</td>\n",
       "      <td>[lodging, point_of_interest, establishment]</td>\n",
       "      <td>512</td>\n",
       "      <td>[{'height': 683, 'html_attributions': ['&lt;a hre...</td>\n",
       "    </tr>\n",
       "    <tr>\n",
       "      <th>2</th>\n",
       "      <td>OPERATIONAL</td>\n",
       "      <td>Calle Tomas Alva Edison 57, Tabacalera, Cuauht...</td>\n",
       "      <td>{'location': {'lat': 19.4370087, 'lng': -99.15...</td>\n",
       "      <td>https://maps.gstatic.com/mapfiles/place_api/ic...</td>\n",
       "      <td>e63c480320389581ae116115a686fa2da470fab4</td>\n",
       "      <td>Capital O DF Inn</td>\n",
       "      <td>{'open_now': True}</td>\n",
       "      <td>ChIJjbUfLh350YURfm-98_XoYbQ</td>\n",
       "      <td>{'compound_code': 'CRPX+R4 Mexico City', 'glob...</td>\n",
       "      <td>4.0</td>\n",
       "      <td>ChIJjbUfLh350YURfm-98_XoYbQ</td>\n",
       "      <td>[lodging, point_of_interest, establishment]</td>\n",
       "      <td>94</td>\n",
       "      <td>[{'height': 426, 'html_attributions': ['&lt;a hre...</td>\n",
       "    </tr>\n",
       "    <tr>\n",
       "      <th>3</th>\n",
       "      <td>OPERATIONAL</td>\n",
       "      <td>Fernando Montes de Oca 47A, Colonia Condesa, C...</td>\n",
       "      <td>{'location': {'lat': 19.4129731, 'lng': -99.17...</td>\n",
       "      <td>https://maps.gstatic.com/mapfiles/place_api/ic...</td>\n",
       "      <td>9004f4783f346a1ba11fd9d13afc881b52d01fe1</td>\n",
       "      <td>Collection O MO 47</td>\n",
       "      <td>{'open_now': True}</td>\n",
       "      <td>ChIJq253Dsf_0YURWDm0IoHUAiw</td>\n",
       "      <td>{'compound_code': 'CR7G+54 Mexico City', 'glob...</td>\n",
       "      <td>3.0</td>\n",
       "      <td>ChIJq253Dsf_0YURWDm0IoHUAiw</td>\n",
       "      <td>[lodging, point_of_interest, establishment]</td>\n",
       "      <td>2</td>\n",
       "      <td>[{'height': 5504, 'html_attributions': ['&lt;a hr...</td>\n",
       "    </tr>\n",
       "    <tr>\n",
       "      <th>4</th>\n",
       "      <td>OPERATIONAL</td>\n",
       "      <td>Tonalá 264, Roma Sur, Cuauhtémoc, 07380 Ciudad...</td>\n",
       "      <td>{'location': {'lat': 19.40891, 'lng': -99.1602...</td>\n",
       "      <td>https://maps.gstatic.com/mapfiles/place_api/ic...</td>\n",
       "      <td>69e9479b7712fa64c4b0f8a092ab18e7b3fbdba3</td>\n",
       "      <td>Capital O Tonalá 264</td>\n",
       "      <td>NaN</td>\n",
       "      <td>ChIJR94kjz3_0YURbE-pQx8AFMo</td>\n",
       "      <td>{'compound_code': 'CR5Q+HV Mexico City', 'glob...</td>\n",
       "      <td>5.0</td>\n",
       "      <td>ChIJR94kjz3_0YURbE-pQx8AFMo</td>\n",
       "      <td>[lodging, point_of_interest, establishment]</td>\n",
       "      <td>1</td>\n",
       "      <td>NaN</td>\n",
       "    </tr>\n",
       "  </tbody>\n",
       "</table>\n",
       "</div>"
      ],
      "text/plain": [
       "  business_status                                  formatted_address  \\\n",
       "0     OPERATIONAL  Calle de Francisco Díaz Covarrubias 92, San Ra...   \n",
       "1     OPERATIONAL  Dr. Andrade 69, Doctores, Cuauhtémoc, 06720 Ci...   \n",
       "2     OPERATIONAL  Calle Tomas Alva Edison 57, Tabacalera, Cuauht...   \n",
       "3     OPERATIONAL  Fernando Montes de Oca 47A, Colonia Condesa, C...   \n",
       "4     OPERATIONAL  Tonalá 264, Roma Sur, Cuauhtémoc, 07380 Ciudad...   \n",
       "\n",
       "                                            geometry  \\\n",
       "0  {'location': {'lat': 19.437271, 'lng': -99.167...   \n",
       "1  {'location': {'lat': 19.4206887, 'lng': -99.14...   \n",
       "2  {'location': {'lat': 19.4370087, 'lng': -99.15...   \n",
       "3  {'location': {'lat': 19.4129731, 'lng': -99.17...   \n",
       "4  {'location': {'lat': 19.40891, 'lng': -99.1602...   \n",
       "\n",
       "                                                icon  \\\n",
       "0  https://maps.gstatic.com/mapfiles/place_api/ic...   \n",
       "1  https://maps.gstatic.com/mapfiles/place_api/ic...   \n",
       "2  https://maps.gstatic.com/mapfiles/place_api/ic...   \n",
       "3  https://maps.gstatic.com/mapfiles/place_api/ic...   \n",
       "4  https://maps.gstatic.com/mapfiles/place_api/ic...   \n",
       "\n",
       "                                         id                     name  \\\n",
       "0  0d0057fa296fbe6ae61820f0a1362ae49f9b9b4f           OYO Hotel Sr92   \n",
       "1  a3ad52e42ea983f259a994f1e94e715b9c402ee5  Capital O Hotel Andrade   \n",
       "2  e63c480320389581ae116115a686fa2da470fab4         Capital O DF Inn   \n",
       "3  9004f4783f346a1ba11fd9d13afc881b52d01fe1       Collection O MO 47   \n",
       "4  69e9479b7712fa64c4b0f8a092ab18e7b3fbdba3     Capital O Tonalá 264   \n",
       "\n",
       "        opening_hours                     place_id  \\\n",
       "0  {'open_now': True}  ChIJsxzPIsr40YURITILBWTqEMU   \n",
       "1  {'open_now': True}  ChIJf8cn-Sf_0YURNPlR-pOByc8   \n",
       "2  {'open_now': True}  ChIJjbUfLh350YURfm-98_XoYbQ   \n",
       "3  {'open_now': True}  ChIJq253Dsf_0YURWDm0IoHUAiw   \n",
       "4                 NaN  ChIJR94kjz3_0YURbE-pQx8AFMo   \n",
       "\n",
       "                                           plus_code  rating  \\\n",
       "0  {'compound_code': 'CRPJ+WW Mexico City', 'glob...     3.4   \n",
       "1  {'compound_code': 'CVC3+7P Mexico City', 'glob...     3.9   \n",
       "2  {'compound_code': 'CRPX+R4 Mexico City', 'glob...     4.0   \n",
       "3  {'compound_code': 'CR7G+54 Mexico City', 'glob...     3.0   \n",
       "4  {'compound_code': 'CR5Q+HV Mexico City', 'glob...     5.0   \n",
       "\n",
       "                     reference                                        types  \\\n",
       "0  ChIJsxzPIsr40YURITILBWTqEMU  [lodging, point_of_interest, establishment]   \n",
       "1  ChIJf8cn-Sf_0YURNPlR-pOByc8  [lodging, point_of_interest, establishment]   \n",
       "2  ChIJjbUfLh350YURfm-98_XoYbQ  [lodging, point_of_interest, establishment]   \n",
       "3  ChIJq253Dsf_0YURWDm0IoHUAiw  [lodging, point_of_interest, establishment]   \n",
       "4  ChIJR94kjz3_0YURbE-pQx8AFMo  [lodging, point_of_interest, establishment]   \n",
       "\n",
       "   user_ratings_total                                             photos  \n",
       "0                  75                                                NaN  \n",
       "1                 512  [{'height': 683, 'html_attributions': ['<a hre...  \n",
       "2                  94  [{'height': 426, 'html_attributions': ['<a hre...  \n",
       "3                   2  [{'height': 5504, 'html_attributions': ['<a hr...  \n",
       "4                   1                                                NaN  "
      ]
     },
     "execution_count": 133,
     "metadata": {},
     "output_type": "execute_result"
    }
   ],
   "source": [
    "pd.DataFrame(df_results['results']).head()"
   ]
  },
  {
   "cell_type": "code",
   "execution_count": null,
   "metadata": {},
   "outputs": [],
   "source": []
  }
 ],
 "metadata": {
  "kernelspec": {
   "display_name": "Python 3",
   "language": "python",
   "name": "python3"
  },
  "language_info": {
   "codemirror_mode": {
    "name": "ipython",
    "version": 3
   },
   "file_extension": ".py",
   "mimetype": "text/x-python",
   "name": "python",
   "nbconvert_exporter": "python",
   "pygments_lexer": "ipython3",
   "version": "3.8.2"
  }
 },
 "nbformat": 4,
 "nbformat_minor": 4
}
